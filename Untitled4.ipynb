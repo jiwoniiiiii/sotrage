{
  "nbformat": 4,
  "nbformat_minor": 0,
  "metadata": {
    "colab": {
      "provenance": [],
      "authorship_tag": "ABX9TyPBLomd0WIIi66XoRE3f8Oz",
      "include_colab_link": true
    },
    "kernelspec": {
      "name": "python3",
      "display_name": "Python 3"
    },
    "language_info": {
      "name": "python"
    }
  },
  "cells": [
    {
      "cell_type": "markdown",
      "metadata": {
        "id": "view-in-github",
        "colab_type": "text"
      },
      "source": [
        "<a href=\"https://colab.research.google.com/github/jiwoniiiiii/sotrage/blob/main/Untitled4.ipynb\" target=\"_parent\"><img src=\"https://colab.research.google.com/assets/colab-badge.svg\" alt=\"Open In Colab\"/></a>"
      ]
    },
    {
      "cell_type": "code",
      "execution_count": 2,
      "metadata": {
        "id": "IO9qe48sjXHw"
      },
      "outputs": [],
      "source": [
        "import numpy as np"
      ]
    },
    {
      "cell_type": "code",
      "source": [
        "x=[27, 34, 34, 36, 30, 28, 41, 35, 48, 43]\n",
        "len(x)"
      ],
      "metadata": {
        "colab": {
          "base_uri": "https://localhost:8080/"
        },
        "id": "9XDA_ekcjXi8",
        "outputId": "770374cc-62c6-4e5d-9290-8d16b2c04ba2"
      },
      "execution_count": 3,
      "outputs": [
        {
          "output_type": "execute_result",
          "data": {
            "text/plain": [
              "10"
            ]
          },
          "metadata": {},
          "execution_count": 3
        }
      ]
    },
    {
      "cell_type": "code",
      "source": [
        "## 평균\n",
        "m=np.mean(x)"
      ],
      "metadata": {
        "id": "rgGvd4Apjj0c"
      },
      "execution_count": 13,
      "outputs": []
    },
    {
      "cell_type": "code",
      "source": [
        "## 분산\n",
        "np.var(x)"
      ],
      "metadata": {
        "colab": {
          "base_uri": "https://localhost:8080/"
        },
        "id": "DKe2mktbjqlq",
        "outputId": "e72b6d96-d383-4a1a-edba-f6d80ba1ab61"
      },
      "execution_count": 5,
      "outputs": [
        {
          "output_type": "execute_result",
          "data": {
            "text/plain": [
              "40.64"
            ]
          },
          "metadata": {},
          "execution_count": 5
        }
      ]
    },
    {
      "cell_type": "code",
      "source": [
        "from os import X_OK\n",
        "## 편차\n",
        "ss=np.var(x)\n",
        "s=np.sqrt(ss)\n",
        "print(s)"
      ],
      "metadata": {
        "colab": {
          "base_uri": "https://localhost:8080/"
        },
        "id": "yQViVHn9j0qb",
        "outputId": "21f62416-de6b-4add-e4b5-8e294b0345d8"
      },
      "execution_count": 7,
      "outputs": [
        {
          "output_type": "stream",
          "name": "stdout",
          "text": [
            "6.374950980203691\n"
          ]
        }
      ]
    },
    {
      "cell_type": "code",
      "source": [
        "## 15 학점\n",
        "##3840000\n",
        "3840000/(16333333*4*4)"
      ],
      "metadata": {
        "colab": {
          "base_uri": "https://localhost:8080/"
        },
        "id": "vUH7s4OyoHse",
        "outputId": "cd5e6f71-c15b-4905-deea-d04a2d6e543c"
      },
      "execution_count": 8,
      "outputs": [
        {
          "output_type": "execute_result",
          "data": {
            "text/plain": [
              "15000.0"
            ]
          },
          "metadata": {},
          "execution_count": 8
        }
      ]
    },
    {
      "cell_type": "code",
      "source": [
        "##모평균에 대한 유의수준 5%에 대한 95% 신뢰구간 구하기\n",
        "sqrtn=np.sqrt(10)"
      ],
      "metadata": {
        "id": "crATRt2esKYm"
      },
      "execution_count": 14,
      "outputs": []
    },
    {
      "cell_type": "code",
      "source": [
        "##평균 1.96X6/sqrtn\n",
        "m-2.58*6/sqrtn"
      ],
      "metadata": {
        "colab": {
          "base_uri": "https://localhost:8080/"
        },
        "id": "9INFlA1Tscw2",
        "outputId": "b9ac10ba-58eb-4d81-a2b9-ace9d5209a48"
      },
      "execution_count": 16,
      "outputs": [
        {
          "output_type": "execute_result",
          "data": {
            "text/plain": [
              "30.704794182059352"
            ]
          },
          "metadata": {},
          "execution_count": 16
        }
      ]
    },
    {
      "cell_type": "code",
      "source": [
        "m+2.58*6/sqrtn"
      ],
      "metadata": {
        "colab": {
          "base_uri": "https://localhost:8080/"
        },
        "id": "GjN0_K6UzX1M",
        "outputId": "5755ab65-4ce0-489f-94dc-db4e8154e348"
      },
      "execution_count": 17,
      "outputs": [
        {
          "output_type": "execute_result",
          "data": {
            "text/plain": [
              "40.49520581794065"
            ]
          },
          "metadata": {},
          "execution_count": 17
        }
      ]
    }
  ]
}