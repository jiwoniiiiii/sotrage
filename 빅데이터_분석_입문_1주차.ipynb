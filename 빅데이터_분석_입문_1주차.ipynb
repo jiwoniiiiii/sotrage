{
  "nbformat": 4,
  "nbformat_minor": 0,
  "metadata": {
    "colab": {
      "provenance": [],
      "authorship_tag": "ABX9TyM1YETv6MhZYSrKzpByt9e8",
      "include_colab_link": true
    },
    "kernelspec": {
      "name": "python3",
      "display_name": "Python 3"
    },
    "language_info": {
      "name": "python"
    }
  },
  "cells": [
    {
      "cell_type": "markdown",
      "metadata": {
        "id": "view-in-github",
        "colab_type": "text"
      },
      "source": [
        "<a href=\"https://colab.research.google.com/github/jiwoniiiiii/sotrage/blob/main/%EB%B9%85%EB%8D%B0%EC%9D%B4%ED%84%B0_%EB%B6%84%EC%84%9D_%EC%9E%85%EB%AC%B8_1%EC%A3%BC%EC%B0%A8.ipynb\" target=\"_parent\"><img src=\"https://colab.research.google.com/assets/colab-badge.svg\" alt=\"Open In Colab\"/></a>"
      ]
    },
    {
      "cell_type": "code",
      "execution_count": null,
      "metadata": {
        "id": "FBb2lOiCYK0w"
      },
      "outputs": [],
      "source": [
        "빅데이터 분석 입문-1주차"
      ]
    },
    {
      "cell_type": "code",
      "source": [
        "a=input() ## 변수는 무조건 str로 나옴. 원한다면 변환해야함"
      ],
      "metadata": {
        "colab": {
          "base_uri": "https://localhost:8080/"
        },
        "id": "DPU6P1OVYibf",
        "outputId": "46b68383-1f85-42a0-d5dd-2603c0b996a3"
      },
      "execution_count": null,
      "outputs": [
        {
          "name": "stdout",
          "output_type": "stream",
          "text": [
            "13\n"
          ]
        }
      ]
    },
    {
      "cell_type": "code",
      "source": [
        "print(a)"
      ],
      "metadata": {
        "colab": {
          "base_uri": "https://localhost:8080/"
        },
        "id": "VQSTq92uYq0R",
        "outputId": "3f0789b0-2a95-408e-ab2d-1e5cf0a69fee"
      },
      "execution_count": null,
      "outputs": [
        {
          "output_type": "stream",
          "name": "stdout",
          "text": [
            "13\n"
          ]
        }
      ]
    },
    {
      "cell_type": "code",
      "source": [
        "type(a)"
      ],
      "metadata": {
        "colab": {
          "base_uri": "https://localhost:8080/"
        },
        "id": "r1gH8WZPYtWJ",
        "outputId": "6dddf9af-074c-4f46-cdda-9684f723ec23"
      },
      "execution_count": null,
      "outputs": [
        {
          "output_type": "execute_result",
          "data": {
            "text/plain": [
              "str"
            ]
          },
          "metadata": {},
          "execution_count": 3
        }
      ]
    },
    {
      "cell_type": "code",
      "source": [
        "b=input()"
      ],
      "metadata": {
        "colab": {
          "base_uri": "https://localhost:8080/"
        },
        "id": "LfTmi3KGY4eP",
        "outputId": "f4f71ab6-24f0-4f0c-964c-cc9e0bb55e9b"
      },
      "execution_count": null,
      "outputs": [
        {
          "name": "stdout",
          "output_type": "stream",
          "text": [
            "이지원\n"
          ]
        }
      ]
    },
    {
      "cell_type": "code",
      "source": [
        "type(b)"
      ],
      "metadata": {
        "colab": {
          "base_uri": "https://localhost:8080/"
        },
        "id": "EBWQm5J-Y8gH",
        "outputId": "d1f0d94e-b15c-4d49-f806-dc799da98133"
      },
      "execution_count": null,
      "outputs": [
        {
          "output_type": "execute_result",
          "data": {
            "text/plain": [
              "str"
            ]
          },
          "metadata": {},
          "execution_count": 5
        }
      ]
    },
    {
      "cell_type": "code",
      "source": [
        "a=int(a)\n",
        "type(a)"
      ],
      "metadata": {
        "colab": {
          "base_uri": "https://localhost:8080/"
        },
        "id": "iazb24CmZian",
        "outputId": "1563edee-b6f8-4271-f060-cb3fe21ebba1"
      },
      "execution_count": null,
      "outputs": [
        {
          "output_type": "execute_result",
          "data": {
            "text/plain": [
              "int"
            ]
          },
          "metadata": {},
          "execution_count": 7
        }
      ]
    },
    {
      "cell_type": "code",
      "source": [
        "## list: 집합\n",
        "A=[1, 2, 3, 4, 5, 6]\n",
        "type(A)"
      ],
      "metadata": {
        "colab": {
          "base_uri": "https://localhost:8080/"
        },
        "id": "4Xb0rDVZZr5m",
        "outputId": "cb143eb4-e9fb-40c3-ffea-9e9aea4da987"
      },
      "execution_count": null,
      "outputs": [
        {
          "output_type": "execute_result",
          "data": {
            "text/plain": [
              "list"
            ]
          },
          "metadata": {},
          "execution_count": 9
        }
      ]
    },
    {
      "cell_type": "code",
      "source": [
        "for i in A :\n",
        "  print(i)"
      ],
      "metadata": {
        "colab": {
          "base_uri": "https://localhost:8080/"
        },
        "id": "9xOXk_cAadb3",
        "outputId": "3260cf7f-32e1-4a3a-949d-e1d7305dacb5"
      },
      "execution_count": null,
      "outputs": [
        {
          "output_type": "stream",
          "name": "stdout",
          "text": [
            "1\n",
            "2\n",
            "3\n",
            "4\n",
            "5\n",
            "6\n"
          ]
        }
      ]
    },
    {
      "cell_type": "code",
      "source": [
        "fruits=[\"apple\", \"banana\", \"graph\", \"orange\"]\n",
        "for i in fruits :\n",
        "  print(i)"
      ],
      "metadata": {
        "colab": {
          "base_uri": "https://localhost:8080/"
        },
        "id": "kCtuauSVbae2",
        "outputId": "e6a93bf1-b264-4518-c6be-d7376c69e2a5"
      },
      "execution_count": null,
      "outputs": [
        {
          "output_type": "stream",
          "name": "stdout",
          "text": [
            "apple\n",
            "banana\n",
            "graph\n",
            "orange\n"
          ]
        }
      ]
    },
    {
      "cell_type": "code",
      "source": [
        "## 3.  슬라이스 사용하기 :\n",
        "list=[1, 2, 3, 4, 5, 6, 7, 8, 9, 10 , 11 , 12, 13, 14, 15, 16, 17, 18, 19, 20, 21, 22, 23, 24, 25, 26, 27, 28, 29 ,30]\n",
        "list[::2] ##홀수출력"
      ],
      "metadata": {
        "colab": {
          "base_uri": "https://localhost:8080/"
        },
        "id": "qN3B1YWFdIn2",
        "outputId": "c9d4018c-98e0-4132-a7b4-9da251845c10"
      },
      "execution_count": null,
      "outputs": [
        {
          "output_type": "execute_result",
          "data": {
            "text/plain": [
              "[1, 3, 5, 7, 9, 11, 13, 15, 17, 19, 21, 23, 25, 27, 29]"
            ]
          },
          "metadata": {},
          "execution_count": 20
        }
      ]
    },
    {
      "cell_type": "code",
      "source": [
        "## append 사용하기\n",
        "b=[]\n",
        "for i in range(5):\n",
        "  b.append(i)"
      ],
      "metadata": {
        "id": "WM_tGISMdtO2"
      },
      "execution_count": null,
      "outputs": []
    },
    {
      "cell_type": "code",
      "source": [
        "print(b)"
      ],
      "metadata": {
        "colab": {
          "base_uri": "https://localhost:8080/"
        },
        "id": "Q7Eb4ofJegSd",
        "outputId": "135a14e3-28eb-4968-f549-2e3b6dc5c94a"
      },
      "execution_count": null,
      "outputs": [
        {
          "output_type": "stream",
          "name": "stdout",
          "text": [
            "[0, 1, 2, 3, 4]\n"
          ]
        }
      ]
    },
    {
      "cell_type": "code",
      "source": [
        "c=[]\n",
        "for i in range(1, 31):## a <= i < b\n",
        "  c.append(i)"
      ],
      "metadata": {
        "id": "sPosy0vFeoAp"
      },
      "execution_count": 2,
      "outputs": []
    },
    {
      "cell_type": "code",
      "source": [
        "print(c)"
      ],
      "metadata": {
        "colab": {
          "base_uri": "https://localhost:8080/"
        },
        "id": "NdaoKqDZe-Zu",
        "outputId": "5b1bffb1-fc57-42ba-d2f0-d82c450c331a"
      },
      "execution_count": 3,
      "outputs": [
        {
          "output_type": "stream",
          "name": "stdout",
          "text": [
            "[1, 2, 3, 4, 5, 6, 7, 8, 9, 10, 11, 12, 13, 14, 15, 16, 17, 18, 19, 20, 21, 22, 23, 24, 25, 26, 27, 28, 29, 30]\n"
          ]
        }
      ]
    },
    {
      "cell_type": "markdown",
      "source": [
        "0308"
      ],
      "metadata": {
        "id": "CHFYB0Vnpg6Q"
      }
    },
    {
      "cell_type": "code",
      "source": [
        "b=list(range(5,12))\n",
        "print(b)"
      ],
      "metadata": {
        "colab": {
          "base_uri": "https://localhost:8080/"
        },
        "id": "_VXKJItypC-Z",
        "outputId": "c355d4fc-4c9a-41d3-c7f8-727d461ee8f5"
      },
      "execution_count": 5,
      "outputs": [
        {
          "output_type": "stream",
          "name": "stdout",
          "text": [
            "[5, 6, 7, 8, 9, 10, 11]\n"
          ]
        }
      ]
    },
    {
      "cell_type": "code",
      "source": [
        "b=list(range(30))\n",
        "print(b[1::2]) ## 1부터 2칸\n",
        "print(b[::2]) ## 0부터 2칸"
      ],
      "metadata": {
        "colab": {
          "base_uri": "https://localhost:8080/"
        },
        "id": "p8R9uKrSp0WR",
        "outputId": "8e94939d-f703-4798-bb57-90efdf4dfaea"
      },
      "execution_count": 6,
      "outputs": [
        {
          "output_type": "stream",
          "name": "stdout",
          "text": [
            "[1, 3, 5, 7, 9, 11, 13, 15, 17, 19, 21, 23, 25, 27, 29]\n",
            "[0, 2, 4, 6, 8, 10, 12, 14, 16, 18, 20, 22, 24, 26, 28]\n"
          ]
        }
      ]
    },
    {
      "cell_type": "code",
      "source": [
        "a=\"halla university\"\n",
        "a.count('a')"
      ],
      "metadata": {
        "colab": {
          "base_uri": "https://localhost:8080/"
        },
        "id": "9bs1eooXrAOh",
        "outputId": "4569f37b-4c1f-48c9-b8fa-ff94aeda2c12"
      },
      "execution_count": 13,
      "outputs": [
        {
          "output_type": "execute_result",
          "data": {
            "text/plain": [
              "16"
            ]
          },
          "metadata": {},
          "execution_count": 13
        }
      ]
    },
    {
      "cell_type": "code",
      "source": [
        "len(a) ##띄어쓰기 포함"
      ],
      "metadata": {
        "colab": {
          "base_uri": "https://localhost:8080/"
        },
        "id": "WXUqS3ERsBvG",
        "outputId": "29dc6a96-f808-4c15-bbb9-703a746da42f"
      },
      "execution_count": 15,
      "outputs": [
        {
          "output_type": "execute_result",
          "data": {
            "text/plain": [
              "16"
            ]
          },
          "metadata": {},
          "execution_count": 15
        }
      ]
    },
    {
      "cell_type": "code",
      "source": [
        "b=\"daesung high school\"\n",
        "len(b)"
      ],
      "metadata": {
        "colab": {
          "base_uri": "https://localhost:8080/"
        },
        "id": "I0E92uKksUwO",
        "outputId": "120c4451-5a05-4552-ff83-1a363df4861f"
      },
      "execution_count": 17,
      "outputs": [
        {
          "output_type": "execute_result",
          "data": {
            "text/plain": [
              "19"
            ]
          },
          "metadata": {},
          "execution_count": 17
        }
      ]
    },
    {
      "cell_type": "code",
      "source": [
        "c=\"skdjfksajfksldeiwfsksdkljfslkjlksjfsklajwoweilaslskdjeofjfsdkwiejfkalwiejfldksiwjeifkdkalksjekfdnxmnmzxoqoqwiuernzxcwqenjkp   asdahjik\"\n",
        "c.count('a')"
      ],
      "metadata": {
        "colab": {
          "base_uri": "https://localhost:8080/"
        },
        "id": "IwUHScYDshZU",
        "outputId": "17e7d184-6759-4861-ae14-b7a2ac4ea2c2"
      },
      "execution_count": 19,
      "outputs": [
        {
          "output_type": "execute_result",
          "data": {
            "text/plain": [
              "7"
            ]
          },
          "metadata": {},
          "execution_count": 19
        }
      ]
    },
    {
      "cell_type": "code",
      "source": [
        "len(c)"
      ],
      "metadata": {
        "colab": {
          "base_uri": "https://localhost:8080/"
        },
        "id": "pxpFnK6ksvnO",
        "outputId": "81b9aeaf-a773-489a-f9e3-7ca654a8e0fb"
      },
      "execution_count": 20,
      "outputs": [
        {
          "output_type": "execute_result",
          "data": {
            "text/plain": [
              "134"
            ]
          },
          "metadata": {},
          "execution_count": 20
        }
      ]
    },
    {
      "cell_type": "code",
      "source": [
        "## round() 반올림\n",
        "## np.cell 올림 , np.trunc 버림"
      ],
      "metadata": {
        "id": "2ZcREE-CtAmX"
      },
      "execution_count": null,
      "outputs": []
    },
    {
      "cell_type": "code",
      "source": [
        "import numpy as np ## numpy : 수학에 관련된 함수 모음"
      ],
      "metadata": {
        "id": "aw9NLVMktQgh"
      },
      "execution_count": 21,
      "outputs": []
    },
    {
      "cell_type": "code",
      "source": [
        "print( 8//5 , 8%5  ) ## 몫, 나머지\n",
        "print(2**5)\n",
        "print(5**4)"
      ],
      "metadata": {
        "colab": {
          "base_uri": "https://localhost:8080/"
        },
        "id": "5JsdSUJUuV0f",
        "outputId": "bb25edfc-ac65-40d8-89cd-78e1238fc737"
      },
      "execution_count": 30,
      "outputs": [
        {
          "output_type": "stream",
          "name": "stdout",
          "text": [
            "1 3\n",
            "32\n",
            "625\n"
          ]
        }
      ]
    },
    {
      "cell_type": "code",
      "source": [
        "pi=3.1415926535"
      ],
      "metadata": {
        "id": "hblqfxRXvjGB"
      },
      "execution_count": 31,
      "outputs": []
    },
    {
      "cell_type": "code",
      "source": [
        "## 소수점 아래 6자리까지 출력\n",
        "round( pi, 6)"
      ],
      "metadata": {
        "colab": {
          "base_uri": "https://localhost:8080/"
        },
        "id": "JE-uzUwgvnH5",
        "outputId": "1657c243-4ddd-4f51-edf2-75013fe8cfba"
      },
      "execution_count": 32,
      "outputs": [
        {
          "output_type": "execute_result",
          "data": {
            "text/plain": [
              "3.141593"
            ]
          },
          "metadata": {},
          "execution_count": 32
        }
      ]
    },
    {
      "cell_type": "code",
      "source": [
        "np.ceil(pi)"
      ],
      "metadata": {
        "colab": {
          "base_uri": "https://localhost:8080/"
        },
        "id": "nmgIXXUfw0vO",
        "outputId": "6f6228b4-80e3-48fc-b051-3b1894db33e7"
      },
      "execution_count": 33,
      "outputs": [
        {
          "output_type": "execute_result",
          "data": {
            "text/plain": [
              "4.0"
            ]
          },
          "metadata": {},
          "execution_count": 33
        }
      ]
    },
    {
      "cell_type": "code",
      "source": [
        "## 제곱근 np.sqrt()\n",
        "round(np.sqrt(5), 6)"
      ],
      "metadata": {
        "colab": {
          "base_uri": "https://localhost:8080/"
        },
        "id": "4qZrTXM0w8A_",
        "outputId": "722639b5-8a64-4492-ab89-5f6542d3a69b"
      },
      "execution_count": 34,
      "outputs": [
        {
          "output_type": "execute_result",
          "data": {
            "text/plain": [
              "2.236068"
            ]
          },
          "metadata": {},
          "execution_count": 34
        }
      ]
    },
    {
      "cell_type": "code",
      "source": [
        "## 논리연산\n",
        "## and : 참 참 일때만 참, 나머지는 거짓\n",
        "## or: 거짓, 거짓 일때만 거짓, 나머지는 참"
      ],
      "metadata": {
        "id": "dZSFLWXVxCnu"
      },
      "execution_count": null,
      "outputs": []
    },
    {
      "cell_type": "code",
      "source": [
        "print(10>5 and 10 !=5)"
      ],
      "metadata": {
        "colab": {
          "base_uri": "https://localhost:8080/"
        },
        "id": "B9sv9lxyxs9m",
        "outputId": "92395e6c-9fc6-4e85-8c9e-4d7900126ebb"
      },
      "execution_count": 35,
      "outputs": [
        {
          "output_type": "stream",
          "name": "stdout",
          "text": [
            "True\n"
          ]
        }
      ]
    },
    {
      "cell_type": "code",
      "source": [
        "print(10>5 and 10 ==5)"
      ],
      "metadata": {
        "id": "ERzEQeS8x5Kw"
      },
      "execution_count": null,
      "outputs": []
    },
    {
      "cell_type": "code",
      "source": [
        "## in / not in : 있느냐 없느냐\n",
        "print('a' in 'alphabet')"
      ],
      "metadata": {
        "colab": {
          "base_uri": "https://localhost:8080/"
        },
        "id": "BrLb7XgpyAse",
        "outputId": "495d56d7-8253-42df-9ac3-8d5ef4d7cb7b"
      },
      "execution_count": 36,
      "outputs": [
        {
          "output_type": "stream",
          "name": "stdout",
          "text": [
            "True\n"
          ]
        }
      ]
    },
    {
      "cell_type": "code",
      "source": [
        "print('a' not in 'alphabet')"
      ],
      "metadata": {
        "colab": {
          "base_uri": "https://localhost:8080/"
        },
        "id": "jV1uXOL8yLiP",
        "outputId": "ec3ac0ea-22fb-457e-bb21-f3cb4dc85f99"
      },
      "execution_count": 39,
      "outputs": [
        {
          "output_type": "stream",
          "name": "stdout",
          "text": [
            "False\n"
          ]
        }
      ]
    },
    {
      "cell_type": "code",
      "source": [
        "##조건문 if ~ 조건 :\n",
        "##로그인\n",
        "psw = int(input())\n",
        "if psw == 12345:\n",
        "  print(\"로그인 되었습니다.\")\n",
        "else:\n",
        "  print(\"비밀번호가 틑렸습니다.\")"
      ],
      "metadata": {
        "colab": {
          "base_uri": "https://localhost:8080/"
        },
        "id": "a_klcBmF0QCl",
        "outputId": "6b792685-a272-4469-b623-ffba5497fe9b"
      },
      "execution_count": 49,
      "outputs": [
        {
          "output_type": "stream",
          "name": "stdout",
          "text": [
            "123455\n",
            "비밀번호가 틑렸습니다.\n"
          ]
        }
      ]
    },
    {
      "cell_type": "code",
      "source": [
        "##if~: else~: elif~: else~:\n",
        "vegetable=['오이', '상추', '고추',' 호박']\n",
        "fruits=['사과', '수박', '딸기']\n",
        "meat=['닭고기', '소고기', '돼지고기']"
      ],
      "metadata": {
        "id": "_HvzToOq2h08"
      },
      "execution_count": 51,
      "outputs": []
    },
    {
      "cell_type": "code",
      "source": [
        "##채소면 채소, 고기면 고기, 과일이면 과일, 해당 없으면 해당 없음 출력\n",
        "word=input()\n",
        "if word in vegetable:\n",
        "  print('채소')\n",
        "elif word in fruits:\n",
        "  print('과일')\n",
        "elif word in meat:\n",
        "  print('고기')\n",
        "else:\n",
        "  print('해당없음')\n"
      ],
      "metadata": {
        "colab": {
          "base_uri": "https://localhost:8080/"
        },
        "id": "TIYRaNM73OCM",
        "outputId": "cd4a6699-4c99-40e0-9880-378ee8b5d1b4"
      },
      "execution_count": 54,
      "outputs": [
        {
          "output_type": "stream",
          "name": "stdout",
          "text": [
            "수박\n",
            "과일\n"
          ]
        }
      ]
    }
  ]
}