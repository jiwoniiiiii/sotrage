{
  "nbformat": 4,
  "nbformat_minor": 0,
  "metadata": {
    "colab": {
      "provenance": [],
      "authorship_tag": "ABX9TyPYLf8JV24ge9i0skCheLHY",
      "include_colab_link": true
    },
    "kernelspec": {
      "name": "python3",
      "display_name": "Python 3"
    },
    "language_info": {
      "name": "python"
    }
  },
  "cells": [
    {
      "cell_type": "markdown",
      "metadata": {
        "id": "view-in-github",
        "colab_type": "text"
      },
      "source": [
        "<a href=\"https://colab.research.google.com/github/jiwoniiiiii/sotrage/blob/main/0305.ipynb\" target=\"_parent\"><img src=\"https://colab.research.google.com/assets/colab-badge.svg\" alt=\"Open In Colab\"/></a>"
      ]
    },
    {
      "cell_type": "markdown",
      "source": [
        "1. 프린트문 사용하기"
      ],
      "metadata": {
        "id": "hPUJgh-5R1bO"
      }
    },
    {
      "cell_type": "code",
      "source": [
        "print(\"hello world!\")"
      ],
      "metadata": {
        "colab": {
          "base_uri": "https://localhost:8080/"
        },
        "id": "_3f3uxT_R4zl",
        "outputId": "e6206713-59b6-440e-d603-af0195355b0d"
      },
      "execution_count": null,
      "outputs": [
        {
          "output_type": "stream",
          "name": "stdout",
          "text": [
            "hello world!\n"
          ]
        }
      ]
    },
    {
      "cell_type": "code",
      "source": [
        "print(\"이지원\")\n",
        "print(\"010-4238-5101\")\n",
        "print(\"031029\")\n",
        "print(\"031029-4******\")\n",
        "print(\"서울특별시 중랑구 봉화산로 56길\")"
      ],
      "metadata": {
        "colab": {
          "base_uri": "https://localhost:8080/"
        },
        "id": "Ps24ugPaS3b9",
        "outputId": "2a50af90-4319-4311-d3c2-02185c64ce19"
      },
      "execution_count": null,
      "outputs": [
        {
          "output_type": "stream",
          "name": "stdout",
          "text": [
            "이지원\n",
            "010-4238-5101\n",
            "031029\n",
            "031029-4******\n",
            "서울특별시 중랑구 봉화산로 56길\n"
          ]
        }
      ]
    },
    {
      "cell_type": "code",
      "source": [
        "print(5)\n",
        "print(-100)\n",
        "print(3.141592)\n",
        "print(1000)\n",
        "print(6 + 4)\n",
        "print(2 * 8)\n",
        "print(6 / 3)\n",
        "print(3 * (3 + 1))"
      ],
      "metadata": {
        "colab": {
          "base_uri": "https://localhost:8080/"
        },
        "id": "eoR4LTdWUHUt",
        "outputId": "df175ed7-9f91-47a1-cb66-09fe58c6dd38"
      },
      "execution_count": null,
      "outputs": [
        {
          "output_type": "stream",
          "name": "stdout",
          "text": [
            "5\n",
            "-100\n",
            "3.141592\n",
            "1000\n",
            "10\n",
            "16\n",
            "2.0\n",
            "12\n"
          ]
        }
      ]
    },
    {
      "cell_type": "code",
      "source": [
        "print(\"문자\")\n",
        "print(\"고양이\")\n",
        "print(\"english\")\n",
        "print(\"10\")\n",
        "print(\"파이썬\" * 3)"
      ],
      "metadata": {
        "colab": {
          "base_uri": "https://localhost:8080/"
        },
        "id": "4QzKYhhsUhK8",
        "outputId": "55ef1949-86ed-4b31-fd1e-26a9d651bf57"
      },
      "execution_count": null,
      "outputs": [
        {
          "output_type": "stream",
          "name": "stdout",
          "text": [
            "문자\n",
            "고양이\n",
            "english\n",
            "10\n",
            "파이썬파이썬파이썬\n"
          ]
        }
      ]
    },
    {
      "cell_type": "code",
      "source": [
        "print(5>10)\n",
        "print(5<10)"
      ],
      "metadata": {
        "colab": {
          "base_uri": "https://localhost:8080/"
        },
        "id": "vw0XbbWLVBwN",
        "outputId": "56c65148-3a73-49b8-c1eb-13b233721eb2"
      },
      "execution_count": null,
      "outputs": [
        {
          "output_type": "stream",
          "name": "stdout",
          "text": [
            "False\n",
            "True\n"
          ]
        }
      ]
    },
    {
      "cell_type": "code",
      "source": [
        "print(\"반려동물을 소개해주세요.\")\n",
        "print(\"우리 집 반려동물은 개인데, 이름이 연탄이에요\")\n",
        "print(\"연탄이는 4살이고, 산책을 아주 좋아해요\")\n",
        "print(\"해피는 수컷인가요?\")\n",
        "print(\"네\")\n",
        "\n",
        "name=\"연탄이\" ##문자열\n",
        "animal=\"고양이\" ##문자열\n",
        "age=4 ##숫자열\n",
        "hobby=\"낮잠\"##문자열\n",
        "is_male =True ##부정형"
      ],
      "metadata": {
        "colab": {
          "base_uri": "https://localhost:8080/"
        },
        "id": "nYB3paOzVTLU",
        "outputId": "3bbcb088-712d-4379-b834-e33e8bdca877"
      },
      "execution_count": null,
      "outputs": [
        {
          "output_type": "stream",
          "name": "stdout",
          "text": [
            "반려동물을 소개해주세요.\n",
            "우리 집 반려동물은 개인데, 이름이 연탄이에요\n",
            "연탄이는 4살이고, 산책을 아주 좋아해요\n",
            "해피는 수컷인가요?\n",
            "네\n"
          ]
        }
      ]
    },
    {
      "cell_type": "code",
      "source": [
        "##변수명 알아보는 함수\n",
        "type(name)\n",
        "type(age)\n",
        "type(is_male)"
      ],
      "metadata": {
        "colab": {
          "base_uri": "https://localhost:8080/"
        },
        "id": "scULMa4oXINy",
        "outputId": "d19cdc5d-62f3-467d-f245-d0a0dfeec755"
      },
      "execution_count": null,
      "outputs": [
        {
          "output_type": "execute_result",
          "data": {
            "text/plain": [
              "bool"
            ]
          },
          "metadata": {},
          "execution_count": 37
        }
      ]
    },
    {
      "cell_type": "code",
      "source": [
        "a=3\n",
        "b=3.14"
      ],
      "metadata": {
        "id": "i4eqR-0nX7zT"
      },
      "execution_count": null,
      "outputs": []
    },
    {
      "cell_type": "code",
      "source": [
        "type(a) ##정수형"
      ],
      "metadata": {
        "colab": {
          "base_uri": "https://localhost:8080/"
        },
        "id": "ysT7bzmyYAaK",
        "outputId": "1299cf93-0f29-4f63-d14c-ff8af1f1ccd7"
      },
      "execution_count": null,
      "outputs": [
        {
          "output_type": "execute_result",
          "data": {
            "text/plain": [
              "int"
            ]
          },
          "metadata": {},
          "execution_count": 39
        }
      ]
    },
    {
      "cell_type": "code",
      "source": [
        "type(b) ##실수형"
      ],
      "metadata": {
        "colab": {
          "base_uri": "https://localhost:8080/"
        },
        "id": "BRPupl4GYCii",
        "outputId": "3c02b2e9-4d7d-4436-afef-3ea11e32dbf6"
      },
      "execution_count": null,
      "outputs": [
        {
          "output_type": "execute_result",
          "data": {
            "text/plain": [
              "float"
            ]
          },
          "metadata": {},
          "execution_count": 41
        }
      ]
    },
    {
      "cell_type": "code",
      "source": [
        "print(\"반려동물을 소개해 주세요.\")\n",
        "print(\"우리 집 반려동물은 \"  + animal +  \"인데, 이름이\" +name+  \"예요.\")\n",
        "print(name + \"는\" + str(age) + \"살이고,\" + hobby + \"을 아주 좋아해요.\")"
      ],
      "metadata": {
        "colab": {
          "base_uri": "https://localhost:8080/"
        },
        "id": "rh-G3N0-VyyF",
        "outputId": "4d88fda9-fe68-482c-c5f0-b5586b094f1f"
      },
      "execution_count": null,
      "outputs": [
        {
          "output_type": "stream",
          "name": "stdout",
          "text": [
            "반려동물을 소개해 주세요.\n",
            "우리 집 반려동물은 고양이인데, 이름이연탄이예요.\n",
            "연탄이는4살이고,낮잠을 아주 좋아해요.\n"
          ]
        }
      ]
    },
    {
      "cell_type": "code",
      "source": [
        "print(\"반려동물을 소개해 주세요.\")\n",
        "print(\"우리 집 반려동물은 \" + animal + \"인데, 이름이 \" + name + \"예요.\")\n",
        "print(name + \"는 \" + str(age) + \"살이고, \" + hobby + \"을 아주 좋아해요.\")\n"
      ],
      "metadata": {
        "colab": {
          "base_uri": "https://localhost:8080/"
        },
        "id": "TEYq84rQWpoc",
        "outputId": "a4e90aa5-fb72-46d0-d902-6a935483d9e1"
      },
      "execution_count": null,
      "outputs": [
        {
          "output_type": "stream",
          "name": "stdout",
          "text": [
            "반려동물을 소개해 주세요.\n",
            "우리 집 반려동물은 고양이인데, 이름이 연탄이예요.\n",
            "연탄이는 4살이고, 낮잠을 아주 좋아해요.\n"
          ]
        }
      ]
    },
    {
      "cell_type": "code",
      "source": [
        "name=\"이지원\"\n",
        "age=22\n",
        "height=158.5"
      ],
      "metadata": {
        "id": "_3bixp1UJ-cg"
      },
      "execution_count": null,
      "outputs": []
    },
    {
      "cell_type": "code",
      "source": [
        "type(height)"
      ],
      "metadata": {
        "colab": {
          "base_uri": "https://localhost:8080/"
        },
        "id": "sSbdkqCCK4rP",
        "outputId": "b29f618d-d575-4c0a-bfe7-fcf4252ae32e"
      },
      "execution_count": null,
      "outputs": [
        {
          "output_type": "execute_result",
          "data": {
            "text/plain": [
              "float"
            ]
          },
          "metadata": {},
          "execution_count": 5
        }
      ]
    },
    {
      "cell_type": "code",
      "source": [
        "print(\"내 이름은 \" + name + \" 이고, 내 나이는 \" + str(age)  + \"고, 내 키는 \" + str(height) + \"이다.\")\n",
        "## int -> str(int) -> str\n",
        "## str -> int(str) -> int"
      ],
      "metadata": {
        "colab": {
          "base_uri": "https://localhost:8080/"
        },
        "id": "JdsfYgbvKLcg",
        "outputId": "eeda26d8-8ce5-436c-d27a-338aa5e7d657"
      },
      "execution_count": null,
      "outputs": [
        {
          "output_type": "stream",
          "name": "stdout",
          "text": [
            "내 이름은 이지원 이고, 내 나이는 22고, 내 키는 158.5이다.\n"
          ]
        }
      ]
    },
    {
      "cell_type": "markdown",
      "source": [
        "2. 연산자\n"
      ],
      "metadata": {
        "id": "ymDLxtPWMiu-"
      }
    },
    {
      "cell_type": "code",
      "source": [
        "## * 곱하기\n",
        "## + 더하기\n",
        "## / 나누기(실수)\n",
        "## % 나머지\n",
        "## // 몫 (자연수 나누기)\n",
        "## ** 거듭제곱"
      ],
      "metadata": {
        "id": "-UtJjOYXNIFe"
      },
      "execution_count": null,
      "outputs": []
    },
    {
      "cell_type": "code",
      "source": [
        "## 비교 연산자\n",
        "\n",
        "## > 크다\n",
        "## >= 크거나 같다\n",
        "## < 작다\n",
        "## <= 작거나 같다\n",
        "## == 같다\n",
        "## != 다르다"
      ],
      "metadata": {
        "id": "vVWZ-znFNeE3"
      },
      "execution_count": null,
      "outputs": []
    },
    {
      "cell_type": "code",
      "source": [
        "## 논리연산자\n",
        "## and: 교집합, 두 논리가 모두 참이며 참\n",
        "## or: 합집합, 두 논리 중 하나라도 참이면 참\n",
        "## not: 부정, 참이면 거짓, 거짓이면 참"
      ],
      "metadata": {
        "id": "9NnSJYjvO012"
      },
      "execution_count": null,
      "outputs": []
    },
    {
      "cell_type": "code",
      "source": [
        "a=3\n",
        "b=0"
      ],
      "metadata": {
        "id": "NMevU1jwPZdN"
      },
      "execution_count": null,
      "outputs": []
    },
    {
      "cell_type": "code",
      "source": [
        "print(a>0  and a<5)"
      ],
      "metadata": {
        "colab": {
          "base_uri": "https://localhost:8080/"
        },
        "id": "53R46f8-PeKV",
        "outputId": "402098d8-d71e-4990-d188-61a6ef72b271"
      },
      "execution_count": null,
      "outputs": [
        {
          "output_type": "stream",
          "name": "stdout",
          "text": [
            "False\n"
          ]
        }
      ]
    },
    {
      "cell_type": "code",
      "source": [
        "print(a>0 or b>0)"
      ],
      "metadata": {
        "colab": {
          "base_uri": "https://localhost:8080/"
        },
        "id": "xpJfE3L9PhgM",
        "outputId": "cbb53779-3aa8-4fd5-ec6f-165560be3eea"
      },
      "execution_count": null,
      "outputs": [
        {
          "output_type": "stream",
          "name": "stdout",
          "text": [
            "True\n"
          ]
        }
      ]
    },
    {
      "cell_type": "code",
      "source": [
        "print(id)"
      ],
      "metadata": {
        "id": "8zceP7PaWKLz"
      },
      "execution_count": null,
      "outputs": []
    },
    {
      "cell_type": "code",
      "source": [
        "len(id)"
      ],
      "metadata": {
        "id": "r9S7ptVkWNOs"
      },
      "execution_count": null,
      "outputs": []
    },
    {
      "cell_type": "code",
      "source": [
        "id='rkskekfkakek'"
      ],
      "metadata": {
        "id": "atbaeN_eWS9z"
      },
      "execution_count": 14,
      "outputs": []
    },
    {
      "cell_type": "code",
      "source": [
        "## 마지막 문자열 찾기\n",
        "print(id[-1])"
      ],
      "metadata": {
        "colab": {
          "base_uri": "https://localhost:8080/"
        },
        "id": "HLSnINkNWPBL",
        "outputId": "2728ff26-e7a1-41df-eb1b-cd5fb0185e49"
      },
      "execution_count": 15,
      "outputs": [
        {
          "output_type": "stream",
          "name": "stdout",
          "text": [
            "k\n"
          ]
        }
      ]
    },
    {
      "cell_type": "code",
      "source": [
        "name='lee jiwon'"
      ],
      "metadata": {
        "id": "J3OhgtEFWwzj"
      },
      "execution_count": 16,
      "outputs": []
    },
    {
      "cell_type": "code",
      "source": [
        "##upper(): 대문자 변환/ lower(): 소문자변환\n",
        "name.upper()"
      ],
      "metadata": {
        "colab": {
          "base_uri": "https://localhost:8080/",
          "height": 36
        },
        "id": "i7DkWuTWWlBb",
        "outputId": "cd6b15e0-5239-47a9-c7db-bf60b31afe4d"
      },
      "execution_count": 17,
      "outputs": [
        {
          "output_type": "execute_result",
          "data": {
            "text/plain": [
              "'LEE JIWON'"
            ],
            "application/vnd.google.colaboratory.intrinsic+json": {
              "type": "string"
            }
          },
          "metadata": {},
          "execution_count": 17
        }
      ]
    },
    {
      "cell_type": "code",
      "source": [
        "subject='python programming'"
      ],
      "metadata": {
        "id": "GmJvDReYXAuM"
      },
      "execution_count": 21,
      "outputs": []
    },
    {
      "cell_type": "code",
      "source": [
        "subject[0].upper"
      ],
      "metadata": {
        "colab": {
          "base_uri": "https://localhost:8080/"
        },
        "id": "sUE7m6XtXE_r",
        "outputId": "823b30d5-37ef-4bc2-cfcd-bd33db4ecd91"
      },
      "execution_count": 22,
      "outputs": [
        {
          "output_type": "execute_result",
          "data": {
            "text/plain": [
              "<function str.upper()>"
            ]
          },
          "metadata": {},
          "execution_count": 22
        }
      ]
    },
    {
      "cell_type": "code",
      "source": [
        "print(year)"
      ],
      "metadata": {
        "id": "I3YrdpG6ULIU"
      },
      "execution_count": null,
      "outputs": []
    },
    {
      "cell_type": "code",
      "source": [
        "##리스트\n",
        "subway=['푸', '피글렛', '티거']"
      ],
      "metadata": {
        "id": "Tz1fWs0_ULDP"
      },
      "execution_count": null,
      "outputs": []
    },
    {
      "cell_type": "code",
      "source": [
        "##append(): 원소첨가\n",
        "subway.append(\"이요르\")\n",
        "print(subway)"
      ],
      "metadata": {
        "id": "v4o28W3QPkoS",
        "outputId": "a0e03fa9-c111-42c2-aa36-2dc2f5d71edf",
        "colab": {
          "base_uri": "https://localhost:8080/"
        }
      },
      "execution_count": null,
      "outputs": [
        {
          "output_type": "stream",
          "name": "stdout",
          "text": [
            "['푸', '피글렛', '티거', '이요르']\n"
          ]
        }
      ]
    },
    {
      "cell_type": "code",
      "source": [
        "## 숫자 세기 변수명.count()\n",
        "subway.count('이요르')"
      ],
      "metadata": {
        "id": "OYiuVTqyU8O8",
        "colab": {
          "base_uri": "https://localhost:8080/"
        },
        "outputId": "4b627e0b-8e56-4074-9e25-fcfc0365f349"
      },
      "execution_count": 6,
      "outputs": [
        {
          "output_type": "execute_result",
          "data": {
            "text/plain": [
              "1"
            ]
          },
          "metadata": {},
          "execution_count": 6
        }
      ]
    },
    {
      "cell_type": "code",
      "source": [
        "number=[4, 2, 3, 5, 1, 4, 6,2]\n",
        "## 오름차순 정리\n",
        "number.sort()\n",
        "print(number)"
      ],
      "metadata": {
        "colab": {
          "base_uri": "https://localhost:8080/"
        },
        "id": "7bq_JARYVXqT",
        "outputId": "e3dbd761-120d-4d99-b7b0-b7d89950b281"
      },
      "execution_count": 8,
      "outputs": [
        {
          "output_type": "stream",
          "name": "stdout",
          "text": [
            "[1, 2, 2, 3, 4, 4, 5, 6]\n"
          ]
        }
      ]
    },
    {
      "cell_type": "code",
      "source": [
        "##내림차순\n",
        "number.sort(reverse=True)\n",
        "print(number)"
      ],
      "metadata": {
        "colab": {
          "base_uri": "https://localhost:8080/"
        },
        "id": "Hm4WjIoKVby7",
        "outputId": "9b7bbe63-63fa-41db-e99f-a52911cd0618"
      },
      "execution_count": 10,
      "outputs": [
        {
          "output_type": "stream",
          "name": "stdout",
          "text": [
            "[6, 5, 4, 4, 3, 2, 2, 1]\n"
          ]
        }
      ]
    },
    {
      "cell_type": "code",
      "source": [
        "## 2. dictionary\n",
        "cabinet={3: '푸', 100 : '피글렛'}"
      ],
      "metadata": {
        "id": "GVJSDRlsWCNE"
      },
      "execution_count": 23,
      "outputs": []
    },
    {
      "cell_type": "code",
      "source": [
        "type(cabinet)"
      ],
      "metadata": {
        "colab": {
          "base_uri": "https://localhost:8080/"
        },
        "id": "_0UH68c8dfGX",
        "outputId": "ca1babdd-ff16-4f3e-b952-ff43619eaf27"
      },
      "execution_count": 24,
      "outputs": [
        {
          "output_type": "execute_result",
          "data": {
            "text/plain": [
              "dict"
            ]
          },
          "metadata": {},
          "execution_count": 24
        }
      ]
    },
    {
      "cell_type": "code",
      "source": [
        "cabinet[3]"
      ],
      "metadata": {
        "colab": {
          "base_uri": "https://localhost:8080/",
          "height": 36
        },
        "id": "kPHV2L8qd0f_",
        "outputId": "59fe3904-8837-4db3-c287-37b33aa9a097"
      },
      "execution_count": 25,
      "outputs": [
        {
          "output_type": "execute_result",
          "data": {
            "text/plain": [
              "'푸'"
            ],
            "application/vnd.google.colaboratory.intrinsic+json": {
              "type": "string"
            }
          },
          "metadata": {},
          "execution_count": 25
        }
      ]
    },
    {
      "cell_type": "code",
      "source": [
        "cabinet.keys()"
      ],
      "metadata": {
        "colab": {
          "base_uri": "https://localhost:8080/"
        },
        "id": "0r8qnF6kd9IN",
        "outputId": "fe5ad258-e865-4f44-f003-77a82bbb7b48"
      },
      "execution_count": 26,
      "outputs": [
        {
          "output_type": "execute_result",
          "data": {
            "text/plain": [
              "dict_keys([3, 100])"
            ]
          },
          "metadata": {},
          "execution_count": 26
        }
      ]
    },
    {
      "cell_type": "code",
      "source": [
        "cabinet.items()"
      ],
      "metadata": {
        "colab": {
          "base_uri": "https://localhost:8080/"
        },
        "id": "vPVP7jBfeDGc",
        "outputId": "b97dd732-a63a-4407-d082-abd60a6d6c48"
      },
      "execution_count": 27,
      "outputs": [
        {
          "output_type": "execute_result",
          "data": {
            "text/plain": [
              "dict_items([(3, '푸'), (100, '피글렛')])"
            ]
          },
          "metadata": {},
          "execution_count": 27
        }
      ]
    },
    {
      "cell_type": "code",
      "source": [
        "##튜플 (1,2,3,,,10)\n",
        "menu=['돈까스', '치즈돈까스']"
      ],
      "metadata": {
        "id": "9ZTQqBHve-nV"
      },
      "execution_count": 28,
      "outputs": []
    },
    {
      "cell_type": "code",
      "source": [
        "menu.append('카레')\n",
        "print(menu)"
      ],
      "metadata": {
        "colab": {
          "base_uri": "https://localhost:8080/"
        },
        "id": "eBoAoVVufOA-",
        "outputId": "e8f5326c-2710-484b-8f29-c20aec7e08fe"
      },
      "execution_count": 30,
      "outputs": [
        {
          "output_type": "stream",
          "name": "stdout",
          "text": [
            "['돈까스', '치즈돈까스', '카레', '카레']\n"
          ]
        }
      ]
    },
    {
      "cell_type": "code",
      "source": [
        "print(menu[0])"
      ],
      "metadata": {
        "colab": {
          "base_uri": "https://localhost:8080/"
        },
        "id": "luFv3ESVfpUG",
        "outputId": "3edc052e-cdc7-466f-9f4b-aacffc4b921c"
      },
      "execution_count": 31,
      "outputs": [
        {
          "output_type": "stream",
          "name": "stdout",
          "text": [
            "돈까스\n"
          ]
        }
      ]
    },
    {
      "cell_type": "code",
      "source": [
        "## 세트{1,2,3,4}\n",
        "my_set={1,2,3,3,3,4,5,5,6}\n",
        "your_set={1,2,3,7,9,9,9,9}"
      ],
      "metadata": {
        "id": "Stin1pkufsvt"
      },
      "execution_count": 34,
      "outputs": []
    },
    {
      "cell_type": "code",
      "source": [
        "## 합집합\n",
        "print(my_set | your_set)\n",
        "print(my_set. union(your_set))"
      ],
      "metadata": {
        "colab": {
          "base_uri": "https://localhost:8080/"
        },
        "id": "6X47EkmDfv_V",
        "outputId": "02a94d1f-05b3-4390-a797-f3ad55a8a74c"
      },
      "execution_count": 38,
      "outputs": [
        {
          "output_type": "stream",
          "name": "stdout",
          "text": [
            "{1, 2, 3, 4, 5, 6, 7, 9}\n",
            "{1, 2, 3, 4, 5, 6, 7, 9}\n"
          ]
        }
      ]
    },
    {
      "cell_type": "code",
      "source": [
        "## 교집합\n",
        "print(my_set & your_set)\n",
        "print(my_set.intersection(your_set))"
      ],
      "metadata": {
        "colab": {
          "base_uri": "https://localhost:8080/"
        },
        "id": "3Uc8jhfEgmAc",
        "outputId": "3f6d4613-b094-41ea-8c0f-a6725d586716"
      },
      "execution_count": 39,
      "outputs": [
        {
          "output_type": "stream",
          "name": "stdout",
          "text": [
            "{1, 2, 3}\n",
            "{1, 2, 3}\n"
          ]
        }
      ]
    },
    {
      "cell_type": "code",
      "source": [
        "java={'바울', '자영', '수민', '현우'}\n",
        "c={'소영', '지원', '바울', '수민'}\n",
        "python={'호준', '우영', '원식', '바울', '수민'}"
      ],
      "metadata": {
        "id": "vkSWzEwqg5pS"
      },
      "execution_count": 40,
      "outputs": []
    },
    {
      "cell_type": "code",
      "source": [
        "print(\"우리 과 학생 중 자바 또는 c언어를 할 수 있는 학생은 몇명일까요\")"
      ],
      "metadata": {
        "colab": {
          "base_uri": "https://localhost:8080/"
        },
        "id": "cvF7g20Uhr3K",
        "outputId": "f45df0bc-38ae-4eed-e6e4-130cff3e5ded"
      },
      "execution_count": 42,
      "outputs": [
        {
          "output_type": "stream",
          "name": "stdout",
          "text": [
            "우리 과 학생 중 자바 또는 c언어를 할 수 있는 학생은 몇명일까요\n"
          ]
        }
      ]
    },
    {
      "cell_type": "code",
      "source": [
        "print(c | java)\n",
        "a=len(java | c)\n",
        "print(\"{}명이다.\".format(a))"
      ],
      "metadata": {
        "colab": {
          "base_uri": "https://localhost:8080/"
        },
        "id": "s9U8RZPXhzrB",
        "outputId": "a50d9b95-ff19-46e4-c20d-c152bc95c366"
      },
      "execution_count": 49,
      "outputs": [
        {
          "output_type": "stream",
          "name": "stdout",
          "text": [
            "{'지원', '바울', '소영', '수민', '자영', '현우'}\n",
            "6명이다.\n"
          ]
        }
      ]
    },
    {
      "cell_type": "code",
      "source": [
        "## 차집합 setA-setB\n",
        "print(my_set-your_set)\n",
        "print(my_set.difference(your_set))"
      ],
      "metadata": {
        "colab": {
          "base_uri": "https://localhost:8080/"
        },
        "id": "Ekm54WqtjSvT",
        "outputId": "930e7755-6864-48ae-9c1c-4bf655802c65"
      },
      "execution_count": 53,
      "outputs": [
        {
          "output_type": "stream",
          "name": "stdout",
          "text": [
            "{4, 5, 6}\n",
            "{4, 5, 6}\n"
          ]
        }
      ]
    },
    {
      "cell_type": "code",
      "source": [
        "##  C는 할 수 있지만 java는 할 수 없는 학생\n",
        "print(c-java)\n",
        "a=len(c-java)\n",
        "print(\"{}명이다.\".format(a))"
      ],
      "metadata": {
        "colab": {
          "base_uri": "https://localhost:8080/"
        },
        "id": "FJ3vxuf6juri",
        "outputId": "50cf8ba7-d57c-4c7e-a553-f099f7000c0a"
      },
      "execution_count": 54,
      "outputs": [
        {
          "output_type": "stream",
          "name": "stdout",
          "text": [
            "{'지원', '소영'}\n",
            "2명이다.\n"
          ]
        }
      ]
    }
  ]
}